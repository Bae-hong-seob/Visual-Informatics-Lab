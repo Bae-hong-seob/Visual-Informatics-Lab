{
  "nbformat": 4,
  "nbformat_minor": 0,
  "metadata": {
    "colab": {
      "name": "Unreal Engine.ipynb",
      "provenance": [],
      "collapsed_sections": [],
      "authorship_tag": "ABX9TyNPFNR58Tg3tLHckSXsXHFj",
      "include_colab_link": true
    },
    "kernelspec": {
      "name": "python3",
      "display_name": "Python 3"
    },
    "language_info": {
      "name": "python"
    }
  },
  "cells": [
    {
      "cell_type": "markdown",
      "metadata": {
        "id": "view-in-github",
        "colab_type": "text"
      },
      "source": [
        "<a href=\"https://colab.research.google.com/github/Bae-hong-seob/lab_study/blob/main/Unreal_Engine.ipynb\" target=\"_parent\"><img src=\"https://colab.research.google.com/assets/colab-badge.svg\" alt=\"Open In Colab\"/></a>"
      ]
    },
    {
      "cell_type": "markdown",
      "source": [
        "3/8 대학원 청강 첫수업\n",
        "\n",
        "재밌을 것 같은데..?\n",
        "\n",
        "실습 위주, 화요일 4-5 교시 또는 금요일 실습\n",
        "\n",
        "엠비디아 -> 스타일 GAN  \n",
        "핵심 : 메타휴먼, 제너러티브 모델(GAN 모델을 다루는)"
      ],
      "metadata": {
        "id": "4WW2EsEk0of6"
      }
    },
    {
      "cell_type": "markdown",
      "source": [
        "3/15 대학원 청강 두번쨰 수업(열정페이)  \n",
        "\n",
        "언리얼 엔진 -> 유튜브, 구글에서 key word 잘 찾으면 나옴  \n",
        "meidapipie 에 언리얼엔진4 동작 조작해서 메타휴먼을 뭐 마음대로 움직이게 할 것  \n",
        "  \n",
        "\n",
        "페이퍼스터디까지 한다고..?   \n",
        "포토 리얼리스틱 아바타를 만드는 것까지가 목표.\n",
        "\n",
        "\n",
        "에픽 게임즈 런처 -> 언리얼 엔진 툴을 사용해서 프로그래밍 제작  \n",
        "언리얼 엔진 툴을 사용해서 프로젝트(빈 프로젝트말고 템플릿 사용) 만드는 것 까지 보여주심  \n",
        "언리얼엔진(UE)  \n",
        "\n",
        "대표적인 메타버스 - 로블럭스, 마인크래프트  \n",
        "> 자신만의 생태계를 구축하고, 거기서 가상화폐를 얻을 수 있으며 그것을 비트코인과 같은 화재와 교환함으로써 현실적인 이익으로도 바꿀 수 있다.  \n",
        "\n",
        "\n",
        "사용하는 언어 -> 블루프린트(C++로 구현되어 있음)  \n",
        "> 일단 대가리 박아봐. 직접 해봐.  \n",
        "> 블루프린트는 레벨 블루프린트, 블루프린트 클래스로 나눌 수 있다.  \n",
        "> 이에 대한 기본적인 이해 공부하기\n",
        "\n",
        "쓰레드 관리 -> 최적화 과정  \n",
        "\n",
        "블루프린트 타임라인 -> 쓰레드 새로 생성? 아니면 기존 main frame에서 작동??  \n",
        "\n",
        "궁금증. 쓰레드 = 컴포넌트(엑터)가 호출되어 실행되어 종료되는 과정 ??? 이거는 메인 쓰레드 속에서 돌아가는거아닌가?"
      ],
      "metadata": {
        "id": "l5vL2JS75N5n"
      }
    },
    {
      "cell_type": "markdown",
      "source": [
        "Q에 대한 답.\n",
        "\n",
        "타임라인이 쓰레드를 새로 생성하진 않는 것 같다. 쓰레드는 랜더링 쓰레드, 게임 쓰레드로 존재하고 그 안에서 동작이 수행되는데,, 남발하진 않는 것 같은데?\n",
        "\n",
        "랜더링 스레드 : https://docs.unrealengine.com/4.27/ko/ProgrammingAndScripting/Rendering/ThreadedRendering/\n",
        "\n",
        "병렬 랜더링, 스레드 개오 : https://docs.unrealengine.com/4.27/ko/ProgrammingAndScripting/Rendering/ParallelRendering/"
      ],
      "metadata": {
        "id": "xhod33dw9VEI"
      }
    },
    {
      "cell_type": "markdown",
      "source": [
        "# 4/5 대학원 수업 NOTE. \n",
        "\n",
        "class blueprint :   \n",
        "> actor, playerobject 등 레벨 블루프린트를 제외한 모든것  \n",
        "\n",
        "level blueprint : 유니티에서 scene 같은것\n",
        "> global event를 다루는 것.  \n",
        "\n",
        "Node에 input, output -> 유니티에서 각 object가 동작하는 순서 등등  \n",
        "== blueprint flow  \n",
        "\n",
        "과제 :  \n",
        "액션 두개만듬 키보드 A, B 버튼으로 함  \n",
        "A버튼 눌렀을 때 어떠한 액션(이벤트) 콘솔출력, 색칠, 이동 등등 아무거나  \n",
        "B버튼 눌렀을 때 또 다른 액션  \n",
        "각각의 버튼의 state을 정의.  \n",
        "activate or disable\n",
        "> A버튼 누르고 있다가 B버튼 누를 시 A버튼 action을 취소시키고 B버튼이 실행되어야 한다.  \n",
        "> 이 말은 동시에 실행하면 안된다. 이떄 취소됐다는걸 확인할 수 있게 표시해줘야한다.  \n",
        "버튼 이벤트는 press / release. \n",
        "시나리오 자체는 A와 B버튼에 대해서. 동시에 눌렀을 때 / 떼어졌을 때 수많은 경우의 수를 어떻게 처리할 것인가.  \n",
        "> A버튼 누르는중인데 B버튼도 눌러졌다. A버튼을 먼저 뗀다면? B버튼을 먼저 뗀다면? 둘다 누르는중이라면?"
      ],
      "metadata": {
        "id": "I6_H0whlC0YP"
      }
    },
    {
      "cell_type": "markdown",
      "source": [
        "VScode 에서 C++ 개발환경 구축  \n",
        "https://velog.io/@jacade/VSCODE-%EB%A5%BC-%EC%9D%B4%EC%9A%A9%ED%95%9C-Unreal-Engine-C-%EA%B0%9C%EB%B0%9C%ED%99%98%EA%B2%BD-%EA%B5%AC%EC%B6%95"
      ],
      "metadata": {
        "id": "oFAR5I6aTcvd"
      }
    },
    {
      "cell_type": "markdown",
      "source": [
        "\"Metal compilder에 대한 Xcode 설치를 찾을 수 없습니다.\" 라는 에러발생 시 터미널에 아래 명령어 입력    \n",
        "sudo xcode-select -s /Applications/Xcode.app/Contents/Developer"
      ],
      "metadata": {
        "id": "RuI9Z-8eV5_q"
      }
    },
    {
      "cell_type": "markdown",
      "source": [
        "블루프린트(=노드로 만든 설계도) : C++로 일일히 코딩 x, 디자이너도 개발할 수 있게끔 만들어놓은 UI  \n",
        "C++로 언리얼 엔진 코드 만지려면 visual studio 사용 or visual studio code에서 C++ 빌드할 수 있게 설정해야된다. == 존나어려움  \n",
        "\n",
        "\n",
        "오늘 한 것.\n",
        "1. 블루프린터로 프로젝트 생성  \n",
        "2. 액터 프로젝트 화면에 생성하기, 위치 & 스케일 조정ㄴ\n",
        "3. 컴포넌트 추가 (=박스 충돌) & 작동범위 설정\n",
        "4. 블루프린트 클래스 추가 -> 하나의 함수(클래스)를 만들어서 여러 레벨에서 사용하도록 뼈대 만드는 것\n",
        "\n"
      ],
      "metadata": {
        "id": "X9uH713owchH"
      }
    },
    {
      "cell_type": "markdown",
      "source": [
        "4/19 대학원 수업  \n",
        "\n",
        "미디어 파이프 : 증강현실 수업에서 나옴.\n",
        "미디어 파이프 -> 포즈 랜드마크 모델  \n",
        "> 이는 파이프를 이어붙인 모양을 의미하므로 사람의 관절을 중심으로 뼈를 이어붙인 그런 모습이 떠오른다.    \n",
        "\n",
        "미디어 파이프가 지원하는 랜드마크 -> 메타휴먼에 적용  \n",
        "이때 mapping issue에 대해 어려운 task가 챌린지가 될 수 있다.\n",
        "\n",
        "다음주까지 task\n",
        "1. 메타휴먼 만들어서 언리얼엔진에 적용시키기  \n",
        "2. puppet avatar에 미디어 파이프 연결시켜서 작동시켜보기"
      ],
      "metadata": {
        "id": "AlUUu1DaN528"
      }
    },
    {
      "cell_type": "markdown",
      "source": [
        "4/29 대학원 수업\n",
        "\n",
        "Skeleton for Animation  \n",
        "\n",
        "kinematics 기법\n",
        "> 벡터연산으로 skeleton 구분하는 방법인듯"
      ],
      "metadata": {
        "id": "8lIKLKaZ9pw_"
      }
    },
    {
      "cell_type": "markdown",
      "source": [
        "5/6 대학원 수업\n",
        "\n",
        "플러그인을 만들게 할텐데 언리얼엔진(플랫폼) 미디어파이프(라이브러리)  \n",
        "우리의 목표는 다른 플랫폼에서 미디어파이프라는 라이브러리를 가져다 쓰는 것(플러그인)   \n",
        "코드 insight는 했고 IK서버를 쓰면된다고 알려줬다. "
      ],
      "metadata": {
        "id": "b6Y1_TAc-r_d"
      }
    },
    {
      "cell_type": "markdown",
      "source": [
        "5/26 목요일  \n",
        "\n",
        "그래서 오늘 수업내용은 고대갈까 한양대갈까인거지?  \n",
        "\n",
        "Local transform : 태양, 지구, 달 -> 계층적 구조로 구현하면 쉬움\n",
        "\n",
        "\n",
        "6/3 까지 미디어파이프 플러그인 생성? 절대못해"
      ],
      "metadata": {
        "id": "E8s_p1nXhFTM"
      }
    },
    {
      "cell_type": "markdown",
      "source": [
        "# 6/21 화요일  \n",
        "\n",
        "최종결과물 들어가는 파일 에픽게임즈 파일로 생긴거.(exe파일) 쉐이더 파일 필요없음  \n",
        "근데 얘만 있으면 안돌아감. 링크파일이나 dll파일이 필요하다. build는 이미 된거임. 빌드가 안된게 문제가 아님.  \n",
        "windows system에 있는 dll을 참조해야함. (환경변수 설정을 통해 마치 해당 폴더에 있는 것 처럼)  \n",
        "dll이 필요한건 다이나믹 링킹에 관련해서 필요하다고 하는 것.  \n",
        "\n",
        "라이브러리 유형에는 정적인, 동적인 라이브러리가 있음  \n",
        "> 정적인 라이브러리는 openCV를 사용예시일때 코드가 존ㄴ ㅏ방대. 소스코드 자체를 쓰지 않고 openCV를 라이브러리 화 시킬 수 있음. 이때 정적인 라이브러리화는 헤더파일, & 코드파일내용이 다 들어감 -> exe만 있으면 됨.  \n",
        "> 동적인 라이브러리는 이미 라이브러리가 빌드되어있음. 이미 빌드되어있는걸 가져다 쓰는 것. 따라서 exe자체는 가볍고 dll이 무거움.  \n",
        "\n",
        "C가 돌아가는 구조를 알아야하는데 작년에 진행했던 그래픽스 프로젝트를 통해서 배움.  \n",
        "그 내용을 바탕으로 언리얼 엔진에서는 어떻게 돌아가는지 확인해보자.  \n",
        "동적인 라이브러리 링킹을 어떻게 진행하는지 확인하는 것.  \n",
        "우리가 저번주에 했던거는 프로세스 통신 간 링킹을 진행한 것."
      ],
      "metadata": {
        "id": "HLh_YQFcW0kA"
      }
    }
  ]
}