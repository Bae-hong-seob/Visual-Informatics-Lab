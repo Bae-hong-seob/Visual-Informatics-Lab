{
  "nbformat": 4,
  "nbformat_minor": 0,
  "metadata": {
    "colab": {
      "name": "Unreal Engine.ipynb",
      "provenance": [],
      "collapsed_sections": [],
      "authorship_tag": "ABX9TyPVedU4rOiiIaa+L06be0pp",
      "include_colab_link": true
    },
    "kernelspec": {
      "name": "python3",
      "display_name": "Python 3"
    },
    "language_info": {
      "name": "python"
    }
  },
  "cells": [
    {
      "cell_type": "markdown",
      "metadata": {
        "id": "view-in-github",
        "colab_type": "text"
      },
      "source": [
        "<a href=\"https://colab.research.google.com/github/Bae-hong-seob/lab_study/blob/main/Unreal_Engine.ipynb\" target=\"_parent\"><img src=\"https://colab.research.google.com/assets/colab-badge.svg\" alt=\"Open In Colab\"/></a>"
      ]
    },
    {
      "cell_type": "markdown",
      "source": [
        "3/8 대학원 청강 첫수업\n",
        "\n",
        "재밌을 것 같은데..?\n",
        "\n",
        "실습 위주, 화요일 4-5 교시 또는 금요일 실습\n",
        "\n",
        "엠비디아 -> 스타일 GAN  \n",
        "핵심 : 메타휴먼, 제너러티브 모델(GAN 모델을 다루는)"
      ],
      "metadata": {
        "id": "4WW2EsEk0of6"
      }
    },
    {
      "cell_type": "markdown",
      "source": [
        "3/15 대학원 청강 두번쨰 수업(열정페이)  \n",
        "\n",
        "언리얼 엔진 -> 유튜브, 구글에서 key word 잘 찾으면 나옴  \n",
        "meidapipie 에 언리얼엔진4 동작 조작해서 메타휴먼을 뭐 마음대로 움직이게 할 것  \n",
        "  \n",
        "\n",
        "페이퍼스터디까지 한다고..?   \n",
        "포토 리얼리스틱 아바타를 만드는 것까지가 목표.\n",
        "\n",
        "\n",
        "에픽 게임즈 런처 -> 언리얼 엔진 툴을 사용해서 프로그래밍 제작  \n",
        "언리얼 엔진 툴을 사용해서 프로젝트(빈 프로젝트말고 템플릿 사용) 만드는 것 까지 보여주심  \n",
        "언리얼엔진(UE)  \n",
        "\n",
        "대표적인 메타버스 - 로블럭스, 마인크래프트  \n",
        "> 자신만의 생태계를 구축하고, 거기서 가상화폐를 얻을 수 있으며 그것을 비트코인과 같은 화재와 교환함으로써 현실적인 이익으로도 바꿀 수 있다.  \n",
        "\n",
        "\n",
        "사용하는 언어 -> 블루프린트(C++로 구현되어 있음)  \n",
        "> 일단 대가리 박아봐. 직접 해봐.  \n",
        "> 블루프린트는 레벨 블루프린트, 블루프린트 클래스로 나눌 수 있다.  \n",
        "> 이에 대한 기본적인 이해 공부하기\n",
        "\n",
        "쓰레드 관리 -> 최적화 과정  \n",
        "\n",
        "블루프린트 타임라인 -> 쓰레드 새로 생성? 아니면 기존 main frame에서 작동??  \n",
        "\n",
        "궁금증. 쓰레드 = 컴포넌트(엑터)가 호출되어 실행되어 종료되는 과정 ??? 이거는 메인 쓰레드 속에서 돌아가는거아닌가?"
      ],
      "metadata": {
        "id": "l5vL2JS75N5n"
      }
    },
    {
      "cell_type": "markdown",
      "source": [
        "Q에 대한 답.\n",
        "\n",
        "타임라인이 쓰레드를 새로 생성하진 않는 것 같다. 쓰레드는 랜더링 쓰레드, 게임 쓰레드로 존재하고 그 안에서 동작이 수행되는데,, 남발하진 않는 것 같은데?\n",
        "\n",
        "랜더링 스레드 : https://docs.unrealengine.com/4.27/ko/ProgrammingAndScripting/Rendering/ThreadedRendering/\n",
        "\n",
        "병렬 랜더링, 스레드 개오 : https://docs.unrealengine.com/4.27/ko/ProgrammingAndScripting/Rendering/ParallelRendering/"
      ],
      "metadata": {
        "id": "xhod33dw9VEI"
      }
    },
    {
      "cell_type": "markdown",
      "source": [
        "# 4/5 대학원 수업 NOTE. \n",
        "\n",
        "class blueprint :   \n",
        "> actor, playerobject 등 레벨 블루프린트를 제외한 모든것  \n",
        "\n",
        "level blueprint : 유니티에서 scene 같은것\n",
        "> global event를 다루는 것.  \n",
        "\n",
        "Node에 input, output -> 유니티에서 각 object가 동작하는 순서 등등  \n",
        "== blueprint flow  \n",
        "\n",
        "과제 :  \n",
        "액션 두개만듬 키보드 A, B 버튼으로 함  \n",
        "A버튼 눌렀을 때 어떠한 액션(이벤트) 콘솔출력, 색칠, 이동 등등 아무거나  \n",
        "B버튼 눌렀을 때 또 다른 액션  \n",
        "각각의 버튼의 state을 정의.  \n",
        "activate or disable\n",
        "> A버튼 누르고 있다가 B버튼 누를 시 A버튼 action을 취소시키고 B버튼이 실행되어야 한다.  \n",
        "> 이 말은 동시에 실행하면 안된다. 이떄 취소됐다는걸 확인할 수 있게 표시해줘야한다.  \n",
        "버튼 이벤트는 press / release. \n",
        "시나리오 자체는 A와 B버튼에 대해서. 동시에 눌렀을 때 / 떼어졌을 때 수많은 경우의 수를 어떻게 처리할 것인가.  \n",
        "> A버튼 누르는중인데 B버튼도 눌러졌다. A버튼을 먼저 뗀다면? B버튼을 먼저 뗀다면? 둘다 누르는중이라면?"
      ],
      "metadata": {
        "id": "I6_H0whlC0YP"
      }
    },
    {
      "cell_type": "markdown",
      "source": [
        "VScode 에서 C++ 개발환경 구축  \n",
        "https://velog.io/@jacade/VSCODE-%EB%A5%BC-%EC%9D%B4%EC%9A%A9%ED%95%9C-Unreal-Engine-C-%EA%B0%9C%EB%B0%9C%ED%99%98%EA%B2%BD-%EA%B5%AC%EC%B6%95"
      ],
      "metadata": {
        "id": "oFAR5I6aTcvd"
      }
    }
  ]
}